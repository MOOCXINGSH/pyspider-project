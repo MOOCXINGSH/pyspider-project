{
 "cells": [
  {
   "cell_type": "code",
   "execution_count": 9,
   "metadata": {
    "collapsed": true
   },
   "outputs": [],
   "source": [
    "import requests\n",
    "import pandas\n",
    "import json\n",
    "import time"
   ]
  },
  {
   "cell_type": "code",
   "execution_count": 10,
   "metadata": {
    "collapsed": true
   },
   "outputs": [],
   "source": [
    "headers={'User-Agent':'Mozilla/5.0 (Linux; Android 6.0; Nexus 5 Build/MRA58N) AppleWebKit/537.36 (KHTML, like Gecko) Chrome/61.0.3163.100 Mobile Safari/537.36'}\n",
    "Cookie={'Cookie':'ALF=1512030118; SCF=Ats0EBICxu5O_X3fkZ5gDDYbHS3y53K06stUi76IbqrQu4cEfwwoIRS3FLC6s7V9hixlYjjP_uqRFoXQwztEgVs.; SUB=_2A250_EL3DeRhGeVG7lMW9izNzTyIHXVUH26_rDV6PUNbktANLVbZkW1p8u6zKozGUCglpMYk8zTUvw5X7g..; SUBP=0033WrSXqPxfM725Ws9jqgMF55529P9D9W5NV1YhJSOSSHuQV_.aEsQz5JpX5KMhUgL.FoeRSK2NSozpSo52dJLoI7YLxKnL1hMLBoxGMJHyUh5t; SUHB=0U1J_lz7MAzRUN; SSOLoginState=1509438119; _T_WM=6e4d4d9b8b1055895254a10316096096; H5_INDEX=2; H5_INDEX_TITLE=%E8%87%B4Great0; H5:PWA:UID=1; M_WEIBOCN_PARAMS=featurecode%3D20000320%26oid%3D4160547165300149%26luicode%3D10000011%26lfid%3D1076031537790411'}"
   ]
  },
  {
   "cell_type": "code",
   "execution_count": 7,
   "metadata": {
    "collapsed": true
   },
   "outputs": [],
   "source": [
    "url='https://m.weibo.cn/api/comments/show?id=4160547165300149&page=2'"
   ]
  },
  {
   "cell_type": "code",
   "execution_count": 22,
   "metadata": {},
   "outputs": [],
   "source": [
    "html=requests.get(url,Cookie)\n",
    "data=html.json()['data']"
   ]
  },
  {
   "cell_type": "code",
   "execution_count": 23,
   "metadata": {},
   "outputs": [
    {
     "data": {
      "text/plain": [
       "{'created_at': '10分钟前',\n",
       " 'id': 4168952168791640,\n",
       " 'like_counts': 0,\n",
       " 'liked': False,\n",
       " 'source': 'OPPO R9s',\n",
       " 'text': '只要你觉得幸福就好',\n",
       " 'user': {'id': 6356941775,\n",
       "  'mbtype': 2,\n",
       "  'profile_image_url': 'https://tvax4.sinaimg.cn/crop.0.0.996.996.180/006Wd4WXly8fkhqpyysbzj30ro0romzu.jpg',\n",
       "  'profile_url': 'https://m.weibo.cn/u/6356941775?uid=6356941775',\n",
       "  'remark': '',\n",
       "  'screen_name': '用户6356941775',\n",
       "  'verified': False,\n",
       "  'verified_type': -1}}"
      ]
     },
     "execution_count": 23,
     "metadata": {},
     "output_type": "execute_result"
    }
   ],
   "source": [
    "data[0]"
   ]
  },
  {
   "cell_type": "code",
   "execution_count": 33,
   "metadata": {},
   "outputs": [
    {
     "data": {
      "text/plain": [
       "4168952168791640"
      ]
     },
     "execution_count": 33,
     "metadata": {},
     "output_type": "execute_result"
    }
   ],
   "source": [
    "#用户id\n",
    "data[0]['id']"
   ]
  },
  {
   "cell_type": "code",
   "execution_count": 34,
   "metadata": {},
   "outputs": [
    {
     "data": {
      "text/plain": [
       "'只要你觉得幸福就好'"
      ]
     },
     "execution_count": 34,
     "metadata": {},
     "output_type": "execute_result"
    }
   ],
   "source": [
    "#评论内容\n",
    "data[0]['text']"
   ]
  },
  {
   "cell_type": "code",
   "execution_count": 35,
   "metadata": {},
   "outputs": [
    {
     "data": {
      "text/plain": [
       "'用户6356941775'"
      ]
     },
     "execution_count": 35,
     "metadata": {},
     "output_type": "execute_result"
    }
   ],
   "source": [
    "#用户名\n",
    "data[0]['user']['screen_name']"
   ]
  },
  {
   "cell_type": "code",
   "execution_count": 36,
   "metadata": {},
   "outputs": [
    {
     "data": {
      "text/plain": [
       "200"
      ]
     },
     "execution_count": 36,
     "metadata": {},
     "output_type": "execute_result"
    }
   ],
   "source": [
    "html.status_code"
   ]
  },
  {
   "cell_type": "code",
   "execution_count": null,
   "metadata": {},
   "outputs": [],
   "source": [
    "for i in range(21):\n",
    "    while html.status_code==200:\n",
    "        i+=1\n",
    "        next_url='https://m.weibo.cn/api/comments/show?id=4160547165300149&page={}'.format(i)\n",
    "        try:\n",
    "            for j in range(len(html.json()['data'])):\n",
    "                data1=[(html.json()['data'][j]['id'],\n",
    "                        html.json()['data'][j]['user']['screen_name'],\n",
    "                        html.json()['data'][j]['created_at'],\n",
    "                        html.json()['data'][j]['source'],\n",
    "                        html.json()['data'][j]['user']['id'],\n",
    "                        html.json()['data'][j]['user']['profile_url'],\n",
    "                        html.json()['data'][j]['user']['profile_image_url'],\n",
    "                        html.json()['data'][j]['text']\n",
    "                       )]\n",
    "                data2=pandas.DataFrame(data1)\n",
    "                data2.to_csv('data/weibo.csv',header=False,index=False,mode='a+')\n",
    "        except:\n",
    "            None\n",
    "        time.sleep(2)\n",
    "        html=requests.get(url,Cookie)"
   ]
  }
 ],
 "metadata": {
  "kernelspec": {
   "display_name": "Python 3",
   "language": "python",
   "name": "python3"
  },
  "language_info": {
   "codemirror_mode": {
    "name": "ipython",
    "version": 3
   },
   "file_extension": ".py",
   "mimetype": "text/x-python",
   "name": "python",
   "nbconvert_exporter": "python",
   "pygments_lexer": "ipython3",
   "version": "3.6.1"
  }
 },
 "nbformat": 4,
 "nbformat_minor": 2
}
